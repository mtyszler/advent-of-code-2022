{
 "cells": [
  {
   "cell_type": "markdown",
   "id": "36732a90",
   "metadata": {},
   "source": [
    "# Day 1"
   ]
  },
  {
   "cell_type": "markdown",
   "id": "f2b50ab5",
   "metadata": {},
   "source": [
    "### Prep"
   ]
  },
  {
   "cell_type": "code",
   "execution_count": 1,
   "id": "65a2c2c2",
   "metadata": {},
   "outputs": [],
   "source": [
    "def parse_input(filename: str) -> dict:\n",
    "    \"\"\"\n",
    "    convert input file into a dictionary of dictionaries on elves food\n",
    "    \n",
    "    output format:\n",
    "    elvea = {\n",
    "        food = {\n",
    "            'food_1': xxx,\n",
    "            ...\n",
    "            \n",
    "\n",
    "        }\n",
    "        total_calories: yyy\n",
    "    }\n",
    "    \"\"\"\n",
    "    input_file = open(filename, 'r')\n",
    "    lines = input_file.readlines()\n",
    "\n",
    "    #initialize\n",
    "    elves  = {}\n",
    "    count_elves = 1\n",
    "    elves['elf_' + str(count_elves)]={}\n",
    "    elves['elf_' + str(count_elves)]['food']={}\n",
    "    count_food = 1\n",
    "    cum_tot = 0\n",
    "\n",
    "    for line in lines:\n",
    "        \n",
    "        if line.strip():\n",
    "            #'The line is NOT empty\n",
    "            elves['elf_' + str(count_elves)]['food']['food_'+ str(count_food)]=line.strip()\n",
    "            cum_tot += int(line.strip())\n",
    "            count_food += 1\n",
    "        else:\n",
    "            #The line is empty'\n",
    "            elves['elf_' + str(count_elves)]['total_calories'] = cum_tot\n",
    "            \n",
    "            #reset\n",
    "            count_elves += 1\n",
    "            elves['elf_' + str(count_elves)]={}\n",
    "            elves['elf_' + str(count_elves)]['food']={}\n",
    "            count_food = 1\n",
    "            cum_tot = 0\n",
    "\n",
    "        if line.strip():\n",
    "             #The last line is no empty\n",
    "            elves['elf_' + str(count_elves)]['total_calories'] = cum_tot\n",
    "    \n",
    "    return elves\n",
    "    \n",
    "    "
   ]
  },
  {
   "cell_type": "code",
   "execution_count": 2,
   "id": "ce822139",
   "metadata": {},
   "outputs": [],
   "source": [
    "elves_example = parse_input('input_files/input_example.txt')"
   ]
  },
  {
   "cell_type": "code",
   "execution_count": 3,
   "id": "26c25afb",
   "metadata": {},
   "outputs": [
    {
     "data": {
      "text/plain": [
       "{'elf_1': {'food': {'food_1': '1000', 'food_2': '2000', 'food_3': '3000'},\n",
       "  'total_calories': 6000},\n",
       " 'elf_2': {'food': {'food_1': '4000'}, 'total_calories': 4000},\n",
       " 'elf_3': {'food': {'food_1': '5000', 'food_2': '6000'},\n",
       "  'total_calories': 11000},\n",
       " 'elf_4': {'food': {'food_1': '7000', 'food_2': '8000', 'food_3': '9000'},\n",
       "  'total_calories': 24000},\n",
       " 'elf_5': {'food': {'food_1': '10000'}, 'total_calories': 10000}}"
      ]
     },
     "execution_count": 3,
     "metadata": {},
     "output_type": "execute_result"
    }
   ],
   "source": [
    "elves_example"
   ]
  },
  {
   "cell_type": "code",
   "execution_count": 4,
   "id": "aaf5d581",
   "metadata": {},
   "outputs": [],
   "source": [
    "def find_max_calories_elf(elves:list[dict])->[str, int]:\n",
    "    total_calories = {elf:values['total_calories'] for elf, values in elves.items()}\n",
    "    max_calories = [key for key, value in total_calories.items() if value == max(total_calories.values())]\n",
    "    \n",
    "    return max_calories, max(total_calories.values())\n",
    "    \n",
    "    "
   ]
  },
  {
   "cell_type": "code",
   "execution_count": 5,
   "id": "2f39e1f6",
   "metadata": {},
   "outputs": [],
   "source": [
    "max_elf, max_elf_calories = find_max_calories_elf(elves_example)"
   ]
  },
  {
   "cell_type": "code",
   "execution_count": 6,
   "id": "46af620e",
   "metadata": {},
   "outputs": [
    {
     "name": "stdout",
     "output_type": "stream",
     "text": [
      "['elf_4']\n",
      "24000\n"
     ]
    }
   ],
   "source": [
    "print(max_elf)\n",
    "print(max_elf_calories)"
   ]
  },
  {
   "cell_type": "code",
   "execution_count": 8,
   "id": "662cbae7",
   "metadata": {},
   "outputs": [],
   "source": [
    "total_calories = {elf:values['total_calories'] for elf, values in elves_example.items()}"
   ]
  },
  {
   "cell_type": "code",
   "execution_count": 15,
   "id": "8529da3b",
   "metadata": {},
   "outputs": [
    {
     "data": {
      "text/plain": [
       "{'elf_1': 6000, 'elf_2': 4000, 'elf_3': 11000, 'elf_4': 24000, 'elf_5': 10000}"
      ]
     },
     "execution_count": 15,
     "metadata": {},
     "output_type": "execute_result"
    }
   ],
   "source": [
    "total_calories"
   ]
  },
  {
   "cell_type": "code",
   "execution_count": 11,
   "id": "ce8119db",
   "metadata": {},
   "outputs": [],
   "source": [
    "import pandas as pd"
   ]
  },
  {
   "cell_type": "code",
   "execution_count": 23,
   "id": "fe633a32",
   "metadata": {},
   "outputs": [],
   "source": [
    "df_elves = pd.DataFrame.from_dict(total_calories,  orient='index', columns=['calories']).sort_values(by='calories', ascending = False)"
   ]
  },
  {
   "cell_type": "code",
   "execution_count": 24,
   "id": "f68356cd",
   "metadata": {},
   "outputs": [
    {
     "data": {
      "text/html": [
       "<div>\n",
       "<style scoped>\n",
       "    .dataframe tbody tr th:only-of-type {\n",
       "        vertical-align: middle;\n",
       "    }\n",
       "\n",
       "    .dataframe tbody tr th {\n",
       "        vertical-align: top;\n",
       "    }\n",
       "\n",
       "    .dataframe thead th {\n",
       "        text-align: right;\n",
       "    }\n",
       "</style>\n",
       "<table border=\"1\" class=\"dataframe\">\n",
       "  <thead>\n",
       "    <tr style=\"text-align: right;\">\n",
       "      <th></th>\n",
       "      <th>calories</th>\n",
       "    </tr>\n",
       "  </thead>\n",
       "  <tbody>\n",
       "    <tr>\n",
       "      <th>elf_4</th>\n",
       "      <td>24000</td>\n",
       "    </tr>\n",
       "    <tr>\n",
       "      <th>elf_3</th>\n",
       "      <td>11000</td>\n",
       "    </tr>\n",
       "    <tr>\n",
       "      <th>elf_5</th>\n",
       "      <td>10000</td>\n",
       "    </tr>\n",
       "    <tr>\n",
       "      <th>elf_1</th>\n",
       "      <td>6000</td>\n",
       "    </tr>\n",
       "    <tr>\n",
       "      <th>elf_2</th>\n",
       "      <td>4000</td>\n",
       "    </tr>\n",
       "  </tbody>\n",
       "</table>\n",
       "</div>"
      ],
      "text/plain": [
       "       calories\n",
       "elf_4     24000\n",
       "elf_3     11000\n",
       "elf_5     10000\n",
       "elf_1      6000\n",
       "elf_2      4000"
      ]
     },
     "execution_count": 24,
     "metadata": {},
     "output_type": "execute_result"
    }
   ],
   "source": [
    "df_elves"
   ]
  },
  {
   "cell_type": "code",
   "execution_count": 28,
   "id": "b6a02845",
   "metadata": {},
   "outputs": [
    {
     "data": {
      "text/plain": [
       "'elf_3'"
      ]
     },
     "execution_count": 28,
     "metadata": {},
     "output_type": "execute_result"
    }
   ],
   "source": [
    "df_elves.iloc[1,].name"
   ]
  },
  {
   "cell_type": "code",
   "execution_count": 32,
   "id": "c5fc4511",
   "metadata": {},
   "outputs": [
    {
     "data": {
      "text/plain": [
       "11000"
      ]
     },
     "execution_count": 32,
     "metadata": {},
     "output_type": "execute_result"
    }
   ],
   "source": [
    "df_elves.iloc[1,].calories"
   ]
  },
  {
   "cell_type": "code",
   "execution_count": 36,
   "id": "1e70df2b",
   "metadata": {},
   "outputs": [
    {
     "data": {
      "text/plain": [
       "elf_4    24000\n",
       "elf_3    11000\n",
       "elf_5    10000\n",
       "Name: calories, dtype: int64"
      ]
     },
     "execution_count": 36,
     "metadata": {},
     "output_type": "execute_result"
    }
   ],
   "source": [
    "df_elves.iloc[0:3,0]"
   ]
  }
 ],
 "metadata": {
  "kernelspec": {
   "display_name": "Python 3 (ipykernel)",
   "language": "python",
   "name": "python3"
  },
  "language_info": {
   "codemirror_mode": {
    "name": "ipython",
    "version": 3
   },
   "file_extension": ".py",
   "mimetype": "text/x-python",
   "name": "python",
   "nbconvert_exporter": "python",
   "pygments_lexer": "ipython3",
   "version": "3.9.12"
  }
 },
 "nbformat": 4,
 "nbformat_minor": 5
}
